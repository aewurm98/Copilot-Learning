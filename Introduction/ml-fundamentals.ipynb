{
 "cells": [
  {
   "attachments": {},
   "cell_type": "markdown",
   "metadata": {},
   "source": [
    "# Machine Learning Fundamentals"
   ]
  },
  {
   "cell_type": "code",
   "execution_count": null,
   "metadata": {},
   "outputs": [],
   "source": [
    "# q: What is Machine Learning?\n",
    "# a: Machine Learning is the science (and art) of programming computers so they can learn from data.\n",
    "\n",
    "# q: How would I read data from a csv in python?\n",
    "# a: import pandas as pd\n",
    "#    df = pd.read_csv('data.csv')\n",
    "\n",
    "# q: How would I build a random forest in python?\n",
    "# a: from sklearn.ensemble import RandomForestClassifier\n",
    "#    clf = RandomForestClassifier()\n",
    "#    clf.fit(X_train, y_train)"
   ]
  },
  {
   "attachments": {},
   "cell_type": "markdown",
   "metadata": {},
   "source": [
    "## Supervised Learning"
   ]
  },
  {
   "cell_type": "code",
   "execution_count": null,
   "metadata": {},
   "outputs": [],
   "source": [
    "#q: What is Supervised Learning?\n",
    "# a: Supervised Learning is the most common type of Machine Learning. It consists of learning the relationship between two datasets: the observed data X and an external variable y that we are trying to predict, usually called “target” or “labels”. Most often, y is a 1D array of length n_samples."
   ]
  },
  {
   "cell_type": "code",
   "execution_count": null,
   "metadata": {},
   "outputs": [],
   "source": [
    "#q: What are examples of Supervised Learning?\n",
    "# a: Some of the most common supervised learning algorithms are Linear Regression, Logistic Regression, Decision Trees, Random Forests, and Support Vector Machines (SVMs)."
   ]
  }
 ],
 "metadata": {
  "kernelspec": {
   "display_name": "base",
   "language": "python",
   "name": "python3"
  },
  "language_info": {
   "name": "python",
   "version": "3.10.11"
  },
  "orig_nbformat": 4
 },
 "nbformat": 4,
 "nbformat_minor": 2
}
